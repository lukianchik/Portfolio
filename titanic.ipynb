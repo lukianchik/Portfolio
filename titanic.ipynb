{
 "cells": [
  {
   "cell_type": "markdown",
   "id": "b79af804",
   "metadata": {
    "papermill": {
     "duration": 0.010838,
     "end_time": "2023-12-16T08:25:36.758191",
     "exception": false,
     "start_time": "2023-12-16T08:25:36.747353",
     "status": "completed"
    },
    "tags": []
   },
   "source": [
    "# **Предсказание выживаемости человека на титанике на основе его данных**\n",
    "Использование статистического теста"
   ]
  },
  {
   "cell_type": "code",
   "execution_count": 1,
   "id": "8e6cf1b6",
   "metadata": {
    "_cell_guid": "b1076dfc-b9ad-4769-8c92-a6c4dae69d19",
    "_uuid": "8f2839f25d086af736a60e9eeb907d3b93b6e0e5",
    "execution": {
     "iopub.execute_input": "2023-12-16T08:25:36.778370Z",
     "iopub.status.busy": "2023-12-16T08:25:36.777449Z",
     "iopub.status.idle": "2023-12-16T08:25:37.742697Z",
     "shell.execute_reply": "2023-12-16T08:25:37.741528Z"
    },
    "papermill": {
     "duration": 0.978889,
     "end_time": "2023-12-16T08:25:37.745826",
     "exception": false,
     "start_time": "2023-12-16T08:25:36.766937",
     "status": "completed"
    },
    "tags": []
   },
   "outputs": [],
   "source": [
    "import numpy as np\n",
    "import pandas as pd \n",
    "import matplotlib.pyplot as plt"
   ]
  },
  {
   "cell_type": "markdown",
   "id": "02ec58fd",
   "metadata": {
    "papermill": {
     "duration": 0.008352,
     "end_time": "2023-12-16T08:25:37.762913",
     "exception": false,
     "start_time": "2023-12-16T08:25:37.754561",
     "status": "completed"
    },
    "tags": []
   },
   "source": [
    "**Импорт данных**"
   ]
  },
  {
   "cell_type": "code",
   "execution_count": 2,
   "id": "6fd7cde3",
   "metadata": {
    "execution": {
     "iopub.execute_input": "2023-12-16T08:25:37.783592Z",
     "iopub.status.busy": "2023-12-16T08:25:37.782393Z",
     "iopub.status.idle": "2023-12-16T08:25:37.817050Z",
     "shell.execute_reply": "2023-12-16T08:25:37.816170Z"
    },
    "papermill": {
     "duration": 0.048377,
     "end_time": "2023-12-16T08:25:37.820290",
     "exception": false,
     "start_time": "2023-12-16T08:25:37.771913",
     "status": "completed"
    },
    "tags": []
   },
   "outputs": [],
   "source": [
    "df_train = pd.read_csv('/kaggle/input/titanic/train.csv')\n",
    "df_test = pd.read_csv('/kaggle/input/titanic/test.csv')"
   ]
  },
  {
   "cell_type": "markdown",
   "id": "132bccc4",
   "metadata": {
    "papermill": {
     "duration": 0.008854,
     "end_time": "2023-12-16T08:25:37.838444",
     "exception": false,
     "start_time": "2023-12-16T08:25:37.829590",
     "status": "completed"
    },
    "tags": []
   },
   "source": [
    "**Работа с данными**"
   ]
  },
  {
   "cell_type": "code",
   "execution_count": 3,
   "id": "9ad34661",
   "metadata": {
    "execution": {
     "iopub.execute_input": "2023-12-16T08:25:37.858367Z",
     "iopub.status.busy": "2023-12-16T08:25:37.857559Z",
     "iopub.status.idle": "2023-12-16T08:25:37.898008Z",
     "shell.execute_reply": "2023-12-16T08:25:37.896798Z"
    },
    "papermill": {
     "duration": 0.053535,
     "end_time": "2023-12-16T08:25:37.900758",
     "exception": false,
     "start_time": "2023-12-16T08:25:37.847223",
     "status": "completed"
    },
    "tags": []
   },
   "outputs": [
    {
     "data": {
      "text/html": [
       "<div>\n",
       "<style scoped>\n",
       "    .dataframe tbody tr th:only-of-type {\n",
       "        vertical-align: middle;\n",
       "    }\n",
       "\n",
       "    .dataframe tbody tr th {\n",
       "        vertical-align: top;\n",
       "    }\n",
       "\n",
       "    .dataframe thead th {\n",
       "        text-align: right;\n",
       "    }\n",
       "</style>\n",
       "<table border=\"1\" class=\"dataframe\">\n",
       "  <thead>\n",
       "    <tr style=\"text-align: right;\">\n",
       "      <th></th>\n",
       "      <th>Survived</th>\n",
       "      <th>Pclass</th>\n",
       "      <th>Sex</th>\n",
       "      <th>PassengerId</th>\n",
       "    </tr>\n",
       "  </thead>\n",
       "  <tbody>\n",
       "    <tr>\n",
       "      <th>0</th>\n",
       "      <td>0</td>\n",
       "      <td>1</td>\n",
       "      <td>female</td>\n",
       "      <td>3</td>\n",
       "    </tr>\n",
       "    <tr>\n",
       "      <th>1</th>\n",
       "      <td>0</td>\n",
       "      <td>1</td>\n",
       "      <td>male</td>\n",
       "      <td>77</td>\n",
       "    </tr>\n",
       "    <tr>\n",
       "      <th>2</th>\n",
       "      <td>0</td>\n",
       "      <td>2</td>\n",
       "      <td>female</td>\n",
       "      <td>6</td>\n",
       "    </tr>\n",
       "    <tr>\n",
       "      <th>3</th>\n",
       "      <td>0</td>\n",
       "      <td>2</td>\n",
       "      <td>male</td>\n",
       "      <td>91</td>\n",
       "    </tr>\n",
       "    <tr>\n",
       "      <th>4</th>\n",
       "      <td>0</td>\n",
       "      <td>3</td>\n",
       "      <td>female</td>\n",
       "      <td>72</td>\n",
       "    </tr>\n",
       "    <tr>\n",
       "      <th>5</th>\n",
       "      <td>0</td>\n",
       "      <td>3</td>\n",
       "      <td>male</td>\n",
       "      <td>300</td>\n",
       "    </tr>\n",
       "    <tr>\n",
       "      <th>6</th>\n",
       "      <td>1</td>\n",
       "      <td>1</td>\n",
       "      <td>female</td>\n",
       "      <td>91</td>\n",
       "    </tr>\n",
       "    <tr>\n",
       "      <th>7</th>\n",
       "      <td>1</td>\n",
       "      <td>1</td>\n",
       "      <td>male</td>\n",
       "      <td>45</td>\n",
       "    </tr>\n",
       "    <tr>\n",
       "      <th>8</th>\n",
       "      <td>1</td>\n",
       "      <td>2</td>\n",
       "      <td>female</td>\n",
       "      <td>70</td>\n",
       "    </tr>\n",
       "    <tr>\n",
       "      <th>9</th>\n",
       "      <td>1</td>\n",
       "      <td>2</td>\n",
       "      <td>male</td>\n",
       "      <td>17</td>\n",
       "    </tr>\n",
       "    <tr>\n",
       "      <th>10</th>\n",
       "      <td>1</td>\n",
       "      <td>3</td>\n",
       "      <td>female</td>\n",
       "      <td>72</td>\n",
       "    </tr>\n",
       "    <tr>\n",
       "      <th>11</th>\n",
       "      <td>1</td>\n",
       "      <td>3</td>\n",
       "      <td>male</td>\n",
       "      <td>47</td>\n",
       "    </tr>\n",
       "  </tbody>\n",
       "</table>\n",
       "</div>"
      ],
      "text/plain": [
       "    Survived  Pclass     Sex  PassengerId\n",
       "0          0       1  female            3\n",
       "1          0       1    male           77\n",
       "2          0       2  female            6\n",
       "3          0       2    male           91\n",
       "4          0       3  female           72\n",
       "5          0       3    male          300\n",
       "6          1       1  female           91\n",
       "7          1       1    male           45\n",
       "8          1       2  female           70\n",
       "9          1       2    male           17\n",
       "10         1       3  female           72\n",
       "11         1       3    male           47"
      ]
     },
     "execution_count": 3,
     "metadata": {},
     "output_type": "execute_result"
    }
   ],
   "source": [
    "df_train.groupby(['Survived', 'Pclass', 'Sex'], as_index=False).agg({'PassengerId': 'count'})"
   ]
  },
  {
   "cell_type": "code",
   "execution_count": 4,
   "id": "edd75ad5",
   "metadata": {
    "execution": {
     "iopub.execute_input": "2023-12-16T08:25:37.921667Z",
     "iopub.status.busy": "2023-12-16T08:25:37.921231Z",
     "iopub.status.idle": "2023-12-16T08:25:38.009460Z",
     "shell.execute_reply": "2023-12-16T08:25:38.008048Z"
    },
    "papermill": {
     "duration": 0.102485,
     "end_time": "2023-12-16T08:25:38.012530",
     "exception": false,
     "start_time": "2023-12-16T08:25:37.910045",
     "status": "completed"
    },
    "tags": []
   },
   "outputs": [
    {
     "data": {
      "text/html": [
       "<div>\n",
       "<style scoped>\n",
       "    .dataframe tbody tr th:only-of-type {\n",
       "        vertical-align: middle;\n",
       "    }\n",
       "\n",
       "    .dataframe tbody tr th {\n",
       "        vertical-align: top;\n",
       "    }\n",
       "\n",
       "    .dataframe thead tr th {\n",
       "        text-align: left;\n",
       "    }\n",
       "</style>\n",
       "<table border=\"1\" class=\"dataframe\">\n",
       "  <thead>\n",
       "    <tr>\n",
       "      <th></th>\n",
       "      <th>Sex</th>\n",
       "      <th colspan=\"8\" halign=\"left\">PassengerId</th>\n",
       "      <th>Survived</th>\n",
       "      <th>...</th>\n",
       "      <th colspan=\"2\" halign=\"left\">Parch</th>\n",
       "      <th colspan=\"8\" halign=\"left\">Fare</th>\n",
       "    </tr>\n",
       "    <tr>\n",
       "      <th></th>\n",
       "      <th></th>\n",
       "      <th>count</th>\n",
       "      <th>mean</th>\n",
       "      <th>std</th>\n",
       "      <th>min</th>\n",
       "      <th>25%</th>\n",
       "      <th>50%</th>\n",
       "      <th>75%</th>\n",
       "      <th>max</th>\n",
       "      <th>count</th>\n",
       "      <th>...</th>\n",
       "      <th>75%</th>\n",
       "      <th>max</th>\n",
       "      <th>count</th>\n",
       "      <th>mean</th>\n",
       "      <th>std</th>\n",
       "      <th>min</th>\n",
       "      <th>25%</th>\n",
       "      <th>50%</th>\n",
       "      <th>75%</th>\n",
       "      <th>max</th>\n",
       "    </tr>\n",
       "  </thead>\n",
       "  <tbody>\n",
       "    <tr>\n",
       "      <th>0</th>\n",
       "      <td>female</td>\n",
       "      <td>314.0</td>\n",
       "      <td>431.028662</td>\n",
       "      <td>256.846324</td>\n",
       "      <td>2.0</td>\n",
       "      <td>231.75</td>\n",
       "      <td>414.5</td>\n",
       "      <td>641.25</td>\n",
       "      <td>889.0</td>\n",
       "      <td>314.0</td>\n",
       "      <td>...</td>\n",
       "      <td>1.0</td>\n",
       "      <td>6.0</td>\n",
       "      <td>314.0</td>\n",
       "      <td>44.479818</td>\n",
       "      <td>57.997698</td>\n",
       "      <td>6.75</td>\n",
       "      <td>12.071875</td>\n",
       "      <td>23.0</td>\n",
       "      <td>55.00</td>\n",
       "      <td>512.3292</td>\n",
       "    </tr>\n",
       "    <tr>\n",
       "      <th>1</th>\n",
       "      <td>male</td>\n",
       "      <td>577.0</td>\n",
       "      <td>454.147314</td>\n",
       "      <td>257.486139</td>\n",
       "      <td>1.0</td>\n",
       "      <td>222.00</td>\n",
       "      <td>464.0</td>\n",
       "      <td>680.00</td>\n",
       "      <td>891.0</td>\n",
       "      <td>577.0</td>\n",
       "      <td>...</td>\n",
       "      <td>0.0</td>\n",
       "      <td>5.0</td>\n",
       "      <td>577.0</td>\n",
       "      <td>25.523893</td>\n",
       "      <td>43.138263</td>\n",
       "      <td>0.00</td>\n",
       "      <td>7.895800</td>\n",
       "      <td>10.5</td>\n",
       "      <td>26.55</td>\n",
       "      <td>512.3292</td>\n",
       "    </tr>\n",
       "  </tbody>\n",
       "</table>\n",
       "<p>2 rows × 57 columns</p>\n",
       "</div>"
      ],
      "text/plain": [
       "      Sex PassengerId                                                      \\\n",
       "                count        mean         std  min     25%    50%     75%   \n",
       "0  female       314.0  431.028662  256.846324  2.0  231.75  414.5  641.25   \n",
       "1    male       577.0  454.147314  257.486139  1.0  222.00  464.0  680.00   \n",
       "\n",
       "         Survived  ... Parch        Fare                              \\\n",
       "     max    count  ...   75%  max  count       mean        std   min   \n",
       "0  889.0    314.0  ...   1.0  6.0  314.0  44.479818  57.997698  6.75   \n",
       "1  891.0    577.0  ...   0.0  5.0  577.0  25.523893  43.138263  0.00   \n",
       "\n",
       "                                     \n",
       "         25%   50%    75%       max  \n",
       "0  12.071875  23.0  55.00  512.3292  \n",
       "1   7.895800  10.5  26.55  512.3292  \n",
       "\n",
       "[2 rows x 57 columns]"
      ]
     },
     "execution_count": 4,
     "metadata": {},
     "output_type": "execute_result"
    }
   ],
   "source": [
    "df_train.groupby(['Sex'], as_index=False).describe()"
   ]
  },
  {
   "cell_type": "code",
   "execution_count": 5,
   "id": "6a873ec4",
   "metadata": {
    "execution": {
     "iopub.execute_input": "2023-12-16T08:25:38.034474Z",
     "iopub.status.busy": "2023-12-16T08:25:38.034047Z",
     "iopub.status.idle": "2023-12-16T08:25:38.051497Z",
     "shell.execute_reply": "2023-12-16T08:25:38.050045Z"
    },
    "papermill": {
     "duration": 0.03199,
     "end_time": "2023-12-16T08:25:38.054261",
     "exception": false,
     "start_time": "2023-12-16T08:25:38.022271",
     "status": "completed"
    },
    "tags": []
   },
   "outputs": [
    {
     "data": {
      "text/html": [
       "<div>\n",
       "<style scoped>\n",
       "    .dataframe tbody tr th:only-of-type {\n",
       "        vertical-align: middle;\n",
       "    }\n",
       "\n",
       "    .dataframe tbody tr th {\n",
       "        vertical-align: top;\n",
       "    }\n",
       "\n",
       "    .dataframe thead th {\n",
       "        text-align: right;\n",
       "    }\n",
       "</style>\n",
       "<table border=\"1\" class=\"dataframe\">\n",
       "  <thead>\n",
       "    <tr style=\"text-align: right;\">\n",
       "      <th></th>\n",
       "      <th>Embarked</th>\n",
       "      <th>Survived</th>\n",
       "      <th>PassengerId</th>\n",
       "    </tr>\n",
       "  </thead>\n",
       "  <tbody>\n",
       "    <tr>\n",
       "      <th>0</th>\n",
       "      <td>C</td>\n",
       "      <td>0</td>\n",
       "      <td>75</td>\n",
       "    </tr>\n",
       "    <tr>\n",
       "      <th>1</th>\n",
       "      <td>C</td>\n",
       "      <td>1</td>\n",
       "      <td>93</td>\n",
       "    </tr>\n",
       "    <tr>\n",
       "      <th>2</th>\n",
       "      <td>Q</td>\n",
       "      <td>0</td>\n",
       "      <td>47</td>\n",
       "    </tr>\n",
       "    <tr>\n",
       "      <th>3</th>\n",
       "      <td>Q</td>\n",
       "      <td>1</td>\n",
       "      <td>30</td>\n",
       "    </tr>\n",
       "    <tr>\n",
       "      <th>4</th>\n",
       "      <td>S</td>\n",
       "      <td>0</td>\n",
       "      <td>427</td>\n",
       "    </tr>\n",
       "    <tr>\n",
       "      <th>5</th>\n",
       "      <td>S</td>\n",
       "      <td>1</td>\n",
       "      <td>217</td>\n",
       "    </tr>\n",
       "  </tbody>\n",
       "</table>\n",
       "</div>"
      ],
      "text/plain": [
       "  Embarked  Survived  PassengerId\n",
       "0        C         0           75\n",
       "1        C         1           93\n",
       "2        Q         0           47\n",
       "3        Q         1           30\n",
       "4        S         0          427\n",
       "5        S         1          217"
      ]
     },
     "execution_count": 5,
     "metadata": {},
     "output_type": "execute_result"
    }
   ],
   "source": [
    "df_train.groupby(['Embarked', 'Survived'], as_index=False).agg({'PassengerId': 'count'})"
   ]
  },
  {
   "cell_type": "code",
   "execution_count": 6,
   "id": "9e31f8b6",
   "metadata": {
    "execution": {
     "iopub.execute_input": "2023-12-16T08:25:38.076781Z",
     "iopub.status.busy": "2023-12-16T08:25:38.075903Z",
     "iopub.status.idle": "2023-12-16T08:25:38.086569Z",
     "shell.execute_reply": "2023-12-16T08:25:38.085362Z"
    },
    "papermill": {
     "duration": 0.025421,
     "end_time": "2023-12-16T08:25:38.089803",
     "exception": false,
     "start_time": "2023-12-16T08:25:38.064382",
     "status": "completed"
    },
    "tags": []
   },
   "outputs": [
    {
     "data": {
      "text/plain": [
       "PassengerId      0\n",
       "Survived         0\n",
       "Pclass           0\n",
       "Name             0\n",
       "Sex              0\n",
       "Age            177\n",
       "SibSp            0\n",
       "Parch            0\n",
       "Ticket           0\n",
       "Fare             0\n",
       "Cabin          687\n",
       "Embarked         2\n",
       "dtype: int64"
      ]
     },
     "execution_count": 6,
     "metadata": {},
     "output_type": "execute_result"
    }
   ],
   "source": [
    "df_train.isna().sum()"
   ]
  },
  {
   "cell_type": "code",
   "execution_count": 7,
   "id": "44e70ae5",
   "metadata": {
    "execution": {
     "iopub.execute_input": "2023-12-16T08:25:38.112109Z",
     "iopub.status.busy": "2023-12-16T08:25:38.111007Z",
     "iopub.status.idle": "2023-12-16T08:25:38.120322Z",
     "shell.execute_reply": "2023-12-16T08:25:38.119223Z"
    },
    "papermill": {
     "duration": 0.023342,
     "end_time": "2023-12-16T08:25:38.123067",
     "exception": false,
     "start_time": "2023-12-16T08:25:38.099725",
     "status": "completed"
    },
    "tags": []
   },
   "outputs": [],
   "source": [
    "df_train.Age = df_train.Age.fillna(df_train.Age.median())\n",
    "df_train.Cabin = df_train.Cabin.fillna(0)\n",
    "df_train.Embarked = df_train.Embarked.fillna(0)"
   ]
  },
  {
   "cell_type": "code",
   "execution_count": 8,
   "id": "69cab0df",
   "metadata": {
    "execution": {
     "iopub.execute_input": "2023-12-16T08:25:38.145931Z",
     "iopub.status.busy": "2023-12-16T08:25:38.145223Z",
     "iopub.status.idle": "2023-12-16T08:25:38.173861Z",
     "shell.execute_reply": "2023-12-16T08:25:38.172369Z"
    },
    "papermill": {
     "duration": 0.044131,
     "end_time": "2023-12-16T08:25:38.176986",
     "exception": false,
     "start_time": "2023-12-16T08:25:38.132855",
     "status": "completed"
    },
    "tags": []
   },
   "outputs": [
    {
     "data": {
      "text/html": [
       "<div>\n",
       "<style scoped>\n",
       "    .dataframe tbody tr th:only-of-type {\n",
       "        vertical-align: middle;\n",
       "    }\n",
       "\n",
       "    .dataframe tbody tr th {\n",
       "        vertical-align: top;\n",
       "    }\n",
       "\n",
       "    .dataframe thead th {\n",
       "        text-align: right;\n",
       "    }\n",
       "</style>\n",
       "<table border=\"1\" class=\"dataframe\">\n",
       "  <thead>\n",
       "    <tr style=\"text-align: right;\">\n",
       "      <th></th>\n",
       "      <th>PassengerId</th>\n",
       "      <th>Survived</th>\n",
       "      <th>Pclass</th>\n",
       "      <th>Name</th>\n",
       "      <th>Sex</th>\n",
       "      <th>Age</th>\n",
       "      <th>SibSp</th>\n",
       "      <th>Parch</th>\n",
       "      <th>Ticket</th>\n",
       "      <th>Fare</th>\n",
       "      <th>Cabin</th>\n",
       "      <th>Embarked</th>\n",
       "    </tr>\n",
       "  </thead>\n",
       "  <tbody>\n",
       "    <tr>\n",
       "      <th>0</th>\n",
       "      <td>1</td>\n",
       "      <td>0</td>\n",
       "      <td>3</td>\n",
       "      <td>Braund, Mr. Owen Harris</td>\n",
       "      <td>male</td>\n",
       "      <td>22.0</td>\n",
       "      <td>1</td>\n",
       "      <td>0</td>\n",
       "      <td>A/5 21171</td>\n",
       "      <td>7.2500</td>\n",
       "      <td>0</td>\n",
       "      <td>S</td>\n",
       "    </tr>\n",
       "    <tr>\n",
       "      <th>1</th>\n",
       "      <td>2</td>\n",
       "      <td>1</td>\n",
       "      <td>1</td>\n",
       "      <td>Cumings, Mrs. John Bradley (Florence Briggs Th...</td>\n",
       "      <td>female</td>\n",
       "      <td>38.0</td>\n",
       "      <td>1</td>\n",
       "      <td>0</td>\n",
       "      <td>PC 17599</td>\n",
       "      <td>71.2833</td>\n",
       "      <td>C85</td>\n",
       "      <td>C</td>\n",
       "    </tr>\n",
       "    <tr>\n",
       "      <th>2</th>\n",
       "      <td>3</td>\n",
       "      <td>1</td>\n",
       "      <td>3</td>\n",
       "      <td>Heikkinen, Miss. Laina</td>\n",
       "      <td>female</td>\n",
       "      <td>26.0</td>\n",
       "      <td>0</td>\n",
       "      <td>0</td>\n",
       "      <td>STON/O2. 3101282</td>\n",
       "      <td>7.9250</td>\n",
       "      <td>0</td>\n",
       "      <td>S</td>\n",
       "    </tr>\n",
       "    <tr>\n",
       "      <th>3</th>\n",
       "      <td>4</td>\n",
       "      <td>1</td>\n",
       "      <td>1</td>\n",
       "      <td>Futrelle, Mrs. Jacques Heath (Lily May Peel)</td>\n",
       "      <td>female</td>\n",
       "      <td>35.0</td>\n",
       "      <td>1</td>\n",
       "      <td>0</td>\n",
       "      <td>113803</td>\n",
       "      <td>53.1000</td>\n",
       "      <td>C123</td>\n",
       "      <td>S</td>\n",
       "    </tr>\n",
       "    <tr>\n",
       "      <th>4</th>\n",
       "      <td>5</td>\n",
       "      <td>0</td>\n",
       "      <td>3</td>\n",
       "      <td>Allen, Mr. William Henry</td>\n",
       "      <td>male</td>\n",
       "      <td>35.0</td>\n",
       "      <td>0</td>\n",
       "      <td>0</td>\n",
       "      <td>373450</td>\n",
       "      <td>8.0500</td>\n",
       "      <td>0</td>\n",
       "      <td>S</td>\n",
       "    </tr>\n",
       "    <tr>\n",
       "      <th>...</th>\n",
       "      <td>...</td>\n",
       "      <td>...</td>\n",
       "      <td>...</td>\n",
       "      <td>...</td>\n",
       "      <td>...</td>\n",
       "      <td>...</td>\n",
       "      <td>...</td>\n",
       "      <td>...</td>\n",
       "      <td>...</td>\n",
       "      <td>...</td>\n",
       "      <td>...</td>\n",
       "      <td>...</td>\n",
       "    </tr>\n",
       "    <tr>\n",
       "      <th>886</th>\n",
       "      <td>887</td>\n",
       "      <td>0</td>\n",
       "      <td>2</td>\n",
       "      <td>Montvila, Rev. Juozas</td>\n",
       "      <td>male</td>\n",
       "      <td>27.0</td>\n",
       "      <td>0</td>\n",
       "      <td>0</td>\n",
       "      <td>211536</td>\n",
       "      <td>13.0000</td>\n",
       "      <td>0</td>\n",
       "      <td>S</td>\n",
       "    </tr>\n",
       "    <tr>\n",
       "      <th>887</th>\n",
       "      <td>888</td>\n",
       "      <td>1</td>\n",
       "      <td>1</td>\n",
       "      <td>Graham, Miss. Margaret Edith</td>\n",
       "      <td>female</td>\n",
       "      <td>19.0</td>\n",
       "      <td>0</td>\n",
       "      <td>0</td>\n",
       "      <td>112053</td>\n",
       "      <td>30.0000</td>\n",
       "      <td>B42</td>\n",
       "      <td>S</td>\n",
       "    </tr>\n",
       "    <tr>\n",
       "      <th>888</th>\n",
       "      <td>889</td>\n",
       "      <td>0</td>\n",
       "      <td>3</td>\n",
       "      <td>Johnston, Miss. Catherine Helen \"Carrie\"</td>\n",
       "      <td>female</td>\n",
       "      <td>28.0</td>\n",
       "      <td>1</td>\n",
       "      <td>2</td>\n",
       "      <td>W./C. 6607</td>\n",
       "      <td>23.4500</td>\n",
       "      <td>0</td>\n",
       "      <td>S</td>\n",
       "    </tr>\n",
       "    <tr>\n",
       "      <th>889</th>\n",
       "      <td>890</td>\n",
       "      <td>1</td>\n",
       "      <td>1</td>\n",
       "      <td>Behr, Mr. Karl Howell</td>\n",
       "      <td>male</td>\n",
       "      <td>26.0</td>\n",
       "      <td>0</td>\n",
       "      <td>0</td>\n",
       "      <td>111369</td>\n",
       "      <td>30.0000</td>\n",
       "      <td>C148</td>\n",
       "      <td>C</td>\n",
       "    </tr>\n",
       "    <tr>\n",
       "      <th>890</th>\n",
       "      <td>891</td>\n",
       "      <td>0</td>\n",
       "      <td>3</td>\n",
       "      <td>Dooley, Mr. Patrick</td>\n",
       "      <td>male</td>\n",
       "      <td>32.0</td>\n",
       "      <td>0</td>\n",
       "      <td>0</td>\n",
       "      <td>370376</td>\n",
       "      <td>7.7500</td>\n",
       "      <td>0</td>\n",
       "      <td>Q</td>\n",
       "    </tr>\n",
       "  </tbody>\n",
       "</table>\n",
       "<p>891 rows × 12 columns</p>\n",
       "</div>"
      ],
      "text/plain": [
       "     PassengerId  Survived  Pclass  \\\n",
       "0              1         0       3   \n",
       "1              2         1       1   \n",
       "2              3         1       3   \n",
       "3              4         1       1   \n",
       "4              5         0       3   \n",
       "..           ...       ...     ...   \n",
       "886          887         0       2   \n",
       "887          888         1       1   \n",
       "888          889         0       3   \n",
       "889          890         1       1   \n",
       "890          891         0       3   \n",
       "\n",
       "                                                  Name     Sex   Age  SibSp  \\\n",
       "0                              Braund, Mr. Owen Harris    male  22.0      1   \n",
       "1    Cumings, Mrs. John Bradley (Florence Briggs Th...  female  38.0      1   \n",
       "2                               Heikkinen, Miss. Laina  female  26.0      0   \n",
       "3         Futrelle, Mrs. Jacques Heath (Lily May Peel)  female  35.0      1   \n",
       "4                             Allen, Mr. William Henry    male  35.0      0   \n",
       "..                                                 ...     ...   ...    ...   \n",
       "886                              Montvila, Rev. Juozas    male  27.0      0   \n",
       "887                       Graham, Miss. Margaret Edith  female  19.0      0   \n",
       "888           Johnston, Miss. Catherine Helen \"Carrie\"  female  28.0      1   \n",
       "889                              Behr, Mr. Karl Howell    male  26.0      0   \n",
       "890                                Dooley, Mr. Patrick    male  32.0      0   \n",
       "\n",
       "     Parch            Ticket     Fare Cabin Embarked  \n",
       "0        0         A/5 21171   7.2500     0        S  \n",
       "1        0          PC 17599  71.2833   C85        C  \n",
       "2        0  STON/O2. 3101282   7.9250     0        S  \n",
       "3        0            113803  53.1000  C123        S  \n",
       "4        0            373450   8.0500     0        S  \n",
       "..     ...               ...      ...   ...      ...  \n",
       "886      0            211536  13.0000     0        S  \n",
       "887      0            112053  30.0000   B42        S  \n",
       "888      2        W./C. 6607  23.4500     0        S  \n",
       "889      0            111369  30.0000  C148        C  \n",
       "890      0            370376   7.7500     0        Q  \n",
       "\n",
       "[891 rows x 12 columns]"
      ]
     },
     "execution_count": 8,
     "metadata": {},
     "output_type": "execute_result"
    }
   ],
   "source": [
    "df_train"
   ]
  },
  {
   "cell_type": "code",
   "execution_count": 9,
   "id": "f98c7dd5",
   "metadata": {
    "execution": {
     "iopub.execute_input": "2023-12-16T08:25:38.199729Z",
     "iopub.status.busy": "2023-12-16T08:25:38.199333Z",
     "iopub.status.idle": "2023-12-16T08:25:38.210621Z",
     "shell.execute_reply": "2023-12-16T08:25:38.209044Z"
    },
    "papermill": {
     "duration": 0.026224,
     "end_time": "2023-12-16T08:25:38.213497",
     "exception": false,
     "start_time": "2023-12-16T08:25:38.187273",
     "status": "completed"
    },
    "tags": []
   },
   "outputs": [
    {
     "data": {
      "text/plain": [
       "PassengerId    0\n",
       "Survived       0\n",
       "Pclass         0\n",
       "Name           0\n",
       "Sex            0\n",
       "Age            0\n",
       "SibSp          0\n",
       "Parch          0\n",
       "Ticket         0\n",
       "Fare           0\n",
       "Cabin          0\n",
       "Embarked       0\n",
       "dtype: int64"
      ]
     },
     "execution_count": 9,
     "metadata": {},
     "output_type": "execute_result"
    }
   ],
   "source": [
    "df_train.isna().sum()"
   ]
  },
  {
   "cell_type": "code",
   "execution_count": 10,
   "id": "d74a07c1",
   "metadata": {
    "execution": {
     "iopub.execute_input": "2023-12-16T08:25:38.238813Z",
     "iopub.status.busy": "2023-12-16T08:25:38.237486Z",
     "iopub.status.idle": "2023-12-16T08:25:38.248268Z",
     "shell.execute_reply": "2023-12-16T08:25:38.246708Z"
    },
    "papermill": {
     "duration": 0.026817,
     "end_time": "2023-12-16T08:25:38.251356",
     "exception": false,
     "start_time": "2023-12-16T08:25:38.224539",
     "status": "completed"
    },
    "tags": []
   },
   "outputs": [],
   "source": [
    "data_all =  pd.concat([df_train, df_test], ignore_index=True)"
   ]
  },
  {
   "cell_type": "code",
   "execution_count": 11,
   "id": "3655d69d",
   "metadata": {
    "execution": {
     "iopub.execute_input": "2023-12-16T08:25:38.275391Z",
     "iopub.status.busy": "2023-12-16T08:25:38.274883Z",
     "iopub.status.idle": "2023-12-16T08:25:38.306589Z",
     "shell.execute_reply": "2023-12-16T08:25:38.304617Z"
    },
    "papermill": {
     "duration": 0.047915,
     "end_time": "2023-12-16T08:25:38.309704",
     "exception": false,
     "start_time": "2023-12-16T08:25:38.261789",
     "status": "completed"
    },
    "tags": []
   },
   "outputs": [],
   "source": [
    "data_all = pd.get_dummies(data_all, columns=['Sex', 'Embarked'], drop_first= True)\n",
    "df_train = pd.get_dummies(df_train, columns=['Sex', 'Embarked'], drop_first= True)\n",
    "df_test = pd.get_dummies(df_test, columns=['Sex', 'Embarked'], drop_first= True)\n",
    "df_test['Embarked_C'] = False\n",
    "\n",
    "data_all[['Sex_male', 'Embarked_C', 'Embarked_Q', 'Embarked_S']] = data_all[['Sex_male', 'Embarked_C', 'Embarked_Q', 'Embarked_S']].astype(int)\n",
    "df_train[['Sex_male', 'Embarked_C', 'Embarked_Q', 'Embarked_S']] = df_train[['Sex_male', 'Embarked_C', 'Embarked_Q', 'Embarked_S']].astype(int)\n",
    "df_test[['Sex_male', 'Embarked_C', 'Embarked_Q', 'Embarked_S']] = df_test[['Sex_male', 'Embarked_C', 'Embarked_Q', 'Embarked_S']].astype(int)"
   ]
  },
  {
   "cell_type": "code",
   "execution_count": 12,
   "id": "83441a78",
   "metadata": {
    "execution": {
     "iopub.execute_input": "2023-12-16T08:25:38.333903Z",
     "iopub.status.busy": "2023-12-16T08:25:38.333413Z",
     "iopub.status.idle": "2023-12-16T08:25:38.342574Z",
     "shell.execute_reply": "2023-12-16T08:25:38.341168Z"
    },
    "papermill": {
     "duration": 0.024808,
     "end_time": "2023-12-16T08:25:38.345554",
     "exception": false,
     "start_time": "2023-12-16T08:25:38.320746",
     "status": "completed"
    },
    "tags": []
   },
   "outputs": [
    {
     "data": {
      "text/plain": [
       "Index(['PassengerId', 'Survived', 'Pclass', 'Name', 'Age', 'SibSp', 'Parch',\n",
       "       'Ticket', 'Fare', 'Cabin', 'Sex_male', 'Embarked_C', 'Embarked_Q',\n",
       "       'Embarked_S'],\n",
       "      dtype='object')"
      ]
     },
     "execution_count": 12,
     "metadata": {},
     "output_type": "execute_result"
    }
   ],
   "source": [
    "data_all.columns"
   ]
  },
  {
   "cell_type": "code",
   "execution_count": 13,
   "id": "43f0ca8b",
   "metadata": {
    "execution": {
     "iopub.execute_input": "2023-12-16T08:25:38.372225Z",
     "iopub.status.busy": "2023-12-16T08:25:38.371537Z",
     "iopub.status.idle": "2023-12-16T08:25:38.401542Z",
     "shell.execute_reply": "2023-12-16T08:25:38.400059Z"
    },
    "papermill": {
     "duration": 0.046929,
     "end_time": "2023-12-16T08:25:38.404390",
     "exception": false,
     "start_time": "2023-12-16T08:25:38.357461",
     "status": "completed"
    },
    "tags": []
   },
   "outputs": [
    {
     "data": {
      "text/html": [
       "<div>\n",
       "<style scoped>\n",
       "    .dataframe tbody tr th:only-of-type {\n",
       "        vertical-align: middle;\n",
       "    }\n",
       "\n",
       "    .dataframe tbody tr th {\n",
       "        vertical-align: top;\n",
       "    }\n",
       "\n",
       "    .dataframe thead th {\n",
       "        text-align: right;\n",
       "    }\n",
       "</style>\n",
       "<table border=\"1\" class=\"dataframe\">\n",
       "  <thead>\n",
       "    <tr style=\"text-align: right;\">\n",
       "      <th></th>\n",
       "      <th>PassengerId</th>\n",
       "      <th>Survived</th>\n",
       "      <th>Pclass</th>\n",
       "      <th>Name</th>\n",
       "      <th>Age</th>\n",
       "      <th>SibSp</th>\n",
       "      <th>Parch</th>\n",
       "      <th>Ticket</th>\n",
       "      <th>Fare</th>\n",
       "      <th>Cabin</th>\n",
       "      <th>Sex_male</th>\n",
       "      <th>Embarked_C</th>\n",
       "      <th>Embarked_Q</th>\n",
       "      <th>Embarked_S</th>\n",
       "    </tr>\n",
       "  </thead>\n",
       "  <tbody>\n",
       "    <tr>\n",
       "      <th>0</th>\n",
       "      <td>1</td>\n",
       "      <td>0.0</td>\n",
       "      <td>3</td>\n",
       "      <td>Braund, Mr. Owen Harris</td>\n",
       "      <td>22.0</td>\n",
       "      <td>1</td>\n",
       "      <td>0</td>\n",
       "      <td>A/5 21171</td>\n",
       "      <td>7.2500</td>\n",
       "      <td>0</td>\n",
       "      <td>1</td>\n",
       "      <td>0</td>\n",
       "      <td>0</td>\n",
       "      <td>1</td>\n",
       "    </tr>\n",
       "    <tr>\n",
       "      <th>1</th>\n",
       "      <td>2</td>\n",
       "      <td>1.0</td>\n",
       "      <td>1</td>\n",
       "      <td>Cumings, Mrs. John Bradley (Florence Briggs Th...</td>\n",
       "      <td>38.0</td>\n",
       "      <td>1</td>\n",
       "      <td>0</td>\n",
       "      <td>PC 17599</td>\n",
       "      <td>71.2833</td>\n",
       "      <td>C85</td>\n",
       "      <td>0</td>\n",
       "      <td>1</td>\n",
       "      <td>0</td>\n",
       "      <td>0</td>\n",
       "    </tr>\n",
       "    <tr>\n",
       "      <th>2</th>\n",
       "      <td>3</td>\n",
       "      <td>1.0</td>\n",
       "      <td>3</td>\n",
       "      <td>Heikkinen, Miss. Laina</td>\n",
       "      <td>26.0</td>\n",
       "      <td>0</td>\n",
       "      <td>0</td>\n",
       "      <td>STON/O2. 3101282</td>\n",
       "      <td>7.9250</td>\n",
       "      <td>0</td>\n",
       "      <td>0</td>\n",
       "      <td>0</td>\n",
       "      <td>0</td>\n",
       "      <td>1</td>\n",
       "    </tr>\n",
       "    <tr>\n",
       "      <th>3</th>\n",
       "      <td>4</td>\n",
       "      <td>1.0</td>\n",
       "      <td>1</td>\n",
       "      <td>Futrelle, Mrs. Jacques Heath (Lily May Peel)</td>\n",
       "      <td>35.0</td>\n",
       "      <td>1</td>\n",
       "      <td>0</td>\n",
       "      <td>113803</td>\n",
       "      <td>53.1000</td>\n",
       "      <td>C123</td>\n",
       "      <td>0</td>\n",
       "      <td>0</td>\n",
       "      <td>0</td>\n",
       "      <td>1</td>\n",
       "    </tr>\n",
       "    <tr>\n",
       "      <th>4</th>\n",
       "      <td>5</td>\n",
       "      <td>0.0</td>\n",
       "      <td>3</td>\n",
       "      <td>Allen, Mr. William Henry</td>\n",
       "      <td>35.0</td>\n",
       "      <td>0</td>\n",
       "      <td>0</td>\n",
       "      <td>373450</td>\n",
       "      <td>8.0500</td>\n",
       "      <td>0</td>\n",
       "      <td>1</td>\n",
       "      <td>0</td>\n",
       "      <td>0</td>\n",
       "      <td>1</td>\n",
       "    </tr>\n",
       "    <tr>\n",
       "      <th>...</th>\n",
       "      <td>...</td>\n",
       "      <td>...</td>\n",
       "      <td>...</td>\n",
       "      <td>...</td>\n",
       "      <td>...</td>\n",
       "      <td>...</td>\n",
       "      <td>...</td>\n",
       "      <td>...</td>\n",
       "      <td>...</td>\n",
       "      <td>...</td>\n",
       "      <td>...</td>\n",
       "      <td>...</td>\n",
       "      <td>...</td>\n",
       "      <td>...</td>\n",
       "    </tr>\n",
       "    <tr>\n",
       "      <th>1304</th>\n",
       "      <td>1305</td>\n",
       "      <td>NaN</td>\n",
       "      <td>3</td>\n",
       "      <td>Spector, Mr. Woolf</td>\n",
       "      <td>NaN</td>\n",
       "      <td>0</td>\n",
       "      <td>0</td>\n",
       "      <td>A.5. 3236</td>\n",
       "      <td>8.0500</td>\n",
       "      <td>NaN</td>\n",
       "      <td>1</td>\n",
       "      <td>0</td>\n",
       "      <td>0</td>\n",
       "      <td>1</td>\n",
       "    </tr>\n",
       "    <tr>\n",
       "      <th>1305</th>\n",
       "      <td>1306</td>\n",
       "      <td>NaN</td>\n",
       "      <td>1</td>\n",
       "      <td>Oliva y Ocana, Dona. Fermina</td>\n",
       "      <td>39.0</td>\n",
       "      <td>0</td>\n",
       "      <td>0</td>\n",
       "      <td>PC 17758</td>\n",
       "      <td>108.9000</td>\n",
       "      <td>C105</td>\n",
       "      <td>0</td>\n",
       "      <td>1</td>\n",
       "      <td>0</td>\n",
       "      <td>0</td>\n",
       "    </tr>\n",
       "    <tr>\n",
       "      <th>1306</th>\n",
       "      <td>1307</td>\n",
       "      <td>NaN</td>\n",
       "      <td>3</td>\n",
       "      <td>Saether, Mr. Simon Sivertsen</td>\n",
       "      <td>38.5</td>\n",
       "      <td>0</td>\n",
       "      <td>0</td>\n",
       "      <td>SOTON/O.Q. 3101262</td>\n",
       "      <td>7.2500</td>\n",
       "      <td>NaN</td>\n",
       "      <td>1</td>\n",
       "      <td>0</td>\n",
       "      <td>0</td>\n",
       "      <td>1</td>\n",
       "    </tr>\n",
       "    <tr>\n",
       "      <th>1307</th>\n",
       "      <td>1308</td>\n",
       "      <td>NaN</td>\n",
       "      <td>3</td>\n",
       "      <td>Ware, Mr. Frederick</td>\n",
       "      <td>NaN</td>\n",
       "      <td>0</td>\n",
       "      <td>0</td>\n",
       "      <td>359309</td>\n",
       "      <td>8.0500</td>\n",
       "      <td>NaN</td>\n",
       "      <td>1</td>\n",
       "      <td>0</td>\n",
       "      <td>0</td>\n",
       "      <td>1</td>\n",
       "    </tr>\n",
       "    <tr>\n",
       "      <th>1308</th>\n",
       "      <td>1309</td>\n",
       "      <td>NaN</td>\n",
       "      <td>3</td>\n",
       "      <td>Peter, Master. Michael J</td>\n",
       "      <td>NaN</td>\n",
       "      <td>1</td>\n",
       "      <td>1</td>\n",
       "      <td>2668</td>\n",
       "      <td>22.3583</td>\n",
       "      <td>NaN</td>\n",
       "      <td>1</td>\n",
       "      <td>1</td>\n",
       "      <td>0</td>\n",
       "      <td>0</td>\n",
       "    </tr>\n",
       "  </tbody>\n",
       "</table>\n",
       "<p>1309 rows × 14 columns</p>\n",
       "</div>"
      ],
      "text/plain": [
       "      PassengerId  Survived  Pclass  \\\n",
       "0               1       0.0       3   \n",
       "1               2       1.0       1   \n",
       "2               3       1.0       3   \n",
       "3               4       1.0       1   \n",
       "4               5       0.0       3   \n",
       "...           ...       ...     ...   \n",
       "1304         1305       NaN       3   \n",
       "1305         1306       NaN       1   \n",
       "1306         1307       NaN       3   \n",
       "1307         1308       NaN       3   \n",
       "1308         1309       NaN       3   \n",
       "\n",
       "                                                   Name   Age  SibSp  Parch  \\\n",
       "0                               Braund, Mr. Owen Harris  22.0      1      0   \n",
       "1     Cumings, Mrs. John Bradley (Florence Briggs Th...  38.0      1      0   \n",
       "2                                Heikkinen, Miss. Laina  26.0      0      0   \n",
       "3          Futrelle, Mrs. Jacques Heath (Lily May Peel)  35.0      1      0   \n",
       "4                              Allen, Mr. William Henry  35.0      0      0   \n",
       "...                                                 ...   ...    ...    ...   \n",
       "1304                                 Spector, Mr. Woolf   NaN      0      0   \n",
       "1305                       Oliva y Ocana, Dona. Fermina  39.0      0      0   \n",
       "1306                       Saether, Mr. Simon Sivertsen  38.5      0      0   \n",
       "1307                                Ware, Mr. Frederick   NaN      0      0   \n",
       "1308                           Peter, Master. Michael J   NaN      1      1   \n",
       "\n",
       "                  Ticket      Fare Cabin  Sex_male  Embarked_C  Embarked_Q  \\\n",
       "0              A/5 21171    7.2500     0         1           0           0   \n",
       "1               PC 17599   71.2833   C85         0           1           0   \n",
       "2       STON/O2. 3101282    7.9250     0         0           0           0   \n",
       "3                 113803   53.1000  C123         0           0           0   \n",
       "4                 373450    8.0500     0         1           0           0   \n",
       "...                  ...       ...   ...       ...         ...         ...   \n",
       "1304           A.5. 3236    8.0500   NaN         1           0           0   \n",
       "1305            PC 17758  108.9000  C105         0           1           0   \n",
       "1306  SOTON/O.Q. 3101262    7.2500   NaN         1           0           0   \n",
       "1307              359309    8.0500   NaN         1           0           0   \n",
       "1308                2668   22.3583   NaN         1           1           0   \n",
       "\n",
       "      Embarked_S  \n",
       "0              1  \n",
       "1              0  \n",
       "2              1  \n",
       "3              1  \n",
       "4              1  \n",
       "...          ...  \n",
       "1304           1  \n",
       "1305           0  \n",
       "1306           1  \n",
       "1307           1  \n",
       "1308           0  \n",
       "\n",
       "[1309 rows x 14 columns]"
      ]
     },
     "execution_count": 13,
     "metadata": {},
     "output_type": "execute_result"
    }
   ],
   "source": [
    "data_all"
   ]
  },
  {
   "cell_type": "code",
   "execution_count": 14,
   "id": "23fd8c2a",
   "metadata": {
    "execution": {
     "iopub.execute_input": "2023-12-16T08:25:38.429722Z",
     "iopub.status.busy": "2023-12-16T08:25:38.429237Z",
     "iopub.status.idle": "2023-12-16T08:25:38.436579Z",
     "shell.execute_reply": "2023-12-16T08:25:38.434846Z"
    },
    "papermill": {
     "duration": 0.023815,
     "end_time": "2023-12-16T08:25:38.439942",
     "exception": false,
     "start_time": "2023-12-16T08:25:38.416127",
     "status": "completed"
    },
    "tags": []
   },
   "outputs": [],
   "source": [
    "feat_test = data_all.columns.drop(['PassengerId', 'Survived', 'Name', 'Ticket', 'Cabin']).tolist()"
   ]
  },
  {
   "cell_type": "code",
   "execution_count": 15,
   "id": "92827ae3",
   "metadata": {
    "execution": {
     "iopub.execute_input": "2023-12-16T08:25:38.465525Z",
     "iopub.status.busy": "2023-12-16T08:25:38.465005Z",
     "iopub.status.idle": "2023-12-16T08:25:38.473338Z",
     "shell.execute_reply": "2023-12-16T08:25:38.471834Z"
    },
    "papermill": {
     "duration": 0.024709,
     "end_time": "2023-12-16T08:25:38.476217",
     "exception": false,
     "start_time": "2023-12-16T08:25:38.451508",
     "status": "completed"
    },
    "tags": []
   },
   "outputs": [
    {
     "data": {
      "text/plain": [
       "['Pclass',\n",
       " 'Age',\n",
       " 'SibSp',\n",
       " 'Parch',\n",
       " 'Fare',\n",
       " 'Sex_male',\n",
       " 'Embarked_C',\n",
       " 'Embarked_Q',\n",
       " 'Embarked_S']"
      ]
     },
     "execution_count": 15,
     "metadata": {},
     "output_type": "execute_result"
    }
   ],
   "source": [
    "feat_test"
   ]
  },
  {
   "cell_type": "code",
   "execution_count": 16,
   "id": "23517bb5",
   "metadata": {
    "execution": {
     "iopub.execute_input": "2023-12-16T08:25:38.502070Z",
     "iopub.status.busy": "2023-12-16T08:25:38.501613Z",
     "iopub.status.idle": "2023-12-16T08:25:44.848859Z",
     "shell.execute_reply": "2023-12-16T08:25:44.847499Z"
    },
    "papermill": {
     "duration": 6.363374,
     "end_time": "2023-12-16T08:25:44.851692",
     "exception": false,
     "start_time": "2023-12-16T08:25:38.488318",
     "status": "completed"
    },
    "tags": []
   },
   "outputs": [
    {
     "data": {
      "image/png": "[encoded data removed]",
      "text/plain": [
       "<Figure size 1200x300 with 2 Axes>"
      ]
     },
     "metadata": {},
     "output_type": "display_data"
    },
    {
     "data": {
      "image/png": "[encoded data removed]",
      "text/plain": [
       "<Figure size 1200x300 with 2 Axes>"
      ]
     },
     "metadata": {},
     "output_type": "display_data"
    },
    {
     "data": {
      "image/png": "[encoded data removed]",
      "text/plain": [
       "<Figure size 1200x300 with 2 Axes>"
      ]
     },
     "metadata": {},
     "output_type": "display_data"
    },
    {
     "data": {
      "image/png": "[encoded data removed]",
      "text/plain": [
       "<Figure size 1200x300 with 2 Axes>"
      ]
     },
     "metadata": {},
     "output_type": "display_data"
    },
    {
     "data": {
      "image/png": "[encoded data removed]",
      "text/plain": [
       "<Figure size 1200x300 with 2 Axes>"
      ]
     },
     "metadata": {},
     "output_type": "display_data"
    },
    {
     "data": {
      "image/png": "[encoded data removed]",
      "text/plain": [
       "<Figure size 1200x300 with 2 Axes>"
      ]
     },
     "metadata": {},
     "output_type": "display_data"
    },
    {
     "data": {
      "image/png": "[encoded data removed]",
      "text/plain": [
       "<Figure size 1200x300 with 2 Axes>"
      ]
     },
     "metadata": {},
     "output_type": "display_data"
    },
    {
     "data": {
      "image/png": "[encoded data removed]",
      "text/plain": [
       "<Figure size 1200x300 with 2 Axes>"
      ]
     },
     "metadata": {},
     "output_type": "display_data"
    },
    {
     "data": {
      "image/png": "[encoded data removed]",
      "text/plain": [
       "<Figure size 1200x300 with 2 Axes>"
      ]
     },
     "metadata": {},
     "output_type": "display_data"
    }
   ],
   "source": [
    "for feat in feat_test:\n",
    "    plt.figure(figsize=(12,3))\n",
    "    ax1 = plt.subplot(1,2,1)\n",
    "    df_train[feat].plot(kind='hist', bins=50, color='blue')\n",
    "    plt.title(feat + ' / train')\n",
    "    ax2 = plt.subplot(1,2,2, sharex=ax1)\n",
    "    df_test[feat].plot(kind='hist', bins=50, color='green')\n",
    "    plt.title(feat + ' / test')\n",
    "    plt.show()"
   ]
  },
  {
   "cell_type": "code",
   "execution_count": 17,
   "id": "07ea73df",
   "metadata": {
    "execution": {
     "iopub.execute_input": "2023-12-16T08:25:44.886964Z",
     "iopub.status.busy": "2023-12-16T08:25:44.885615Z",
     "iopub.status.idle": "2023-12-16T08:25:47.140510Z",
     "shell.execute_reply": "2023-12-16T08:25:47.138996Z"
    },
    "papermill": {
     "duration": 2.275647,
     "end_time": "2023-12-16T08:25:47.143423",
     "exception": false,
     "start_time": "2023-12-16T08:25:44.867776",
     "status": "completed"
    },
    "tags": []
   },
   "outputs": [
    {
     "data": {
      "image/png": "[encoded data removed]",
      "text/plain": [
       "<Figure size 640x480 with 1 Axes>"
      ]
     },
     "metadata": {},
     "output_type": "display_data"
    }
   ],
   "source": [
    "import seaborn as sns\n",
    "\n",
    "sns.histplot(data=df_train, x=\"Age\", hue = 'Survived')\n",
    "None"
   ]
  },
  {
   "cell_type": "markdown",
   "id": "6e941bd9",
   "metadata": {
    "papermill": {
     "duration": 0.016734,
     "end_time": "2023-12-16T08:25:47.176564",
     "exception": false,
     "start_time": "2023-12-16T08:25:47.159830",
     "status": "completed"
    },
    "tags": []
   },
   "source": [
    "**Предсказание на основе возраста, класса и пола пассажира**"
   ]
  },
  {
   "cell_type": "code",
   "execution_count": 18,
   "id": "f7c95df4",
   "metadata": {
    "execution": {
     "iopub.execute_input": "2023-12-16T08:25:47.212951Z",
     "iopub.status.busy": "2023-12-16T08:25:47.212132Z",
     "iopub.status.idle": "2023-12-16T08:25:47.266622Z",
     "shell.execute_reply": "2023-12-16T08:25:47.265106Z"
    },
    "papermill": {
     "duration": 0.076736,
     "end_time": "2023-12-16T08:25:47.270279",
     "exception": false,
     "start_time": "2023-12-16T08:25:47.193543",
     "status": "completed"
    },
    "tags": []
   },
   "outputs": [],
   "source": [
    "predictions = {}\n",
    "df = pd.read_csv('/kaggle/input/titanic/test.csv')\n",
    "for passenger_index, passenger in df.iterrows():\n",
    "    passenger_id = passenger['PassengerId']\n",
    "    if (passenger['Age'] < 15 and  (passenger['Pclass'] == 1 or passenger['Pclass'] == 2)) or (passenger['Sex'] == 'female' and (passenger['Pclass'] == 1 or passenger['Pclass'] == 2)):\n",
    "        predictions[passenger_id] = 1\n",
    "    else:\n",
    "        predictions[passenger_id] = 0\n",
    "df = pd.DataFrame.from_dict(predictions, orient='index').reset_index()"
   ]
  },
  {
   "cell_type": "code",
   "execution_count": 19,
   "id": "37f7f308",
   "metadata": {
    "execution": {
     "iopub.execute_input": "2023-12-16T08:25:47.308914Z",
     "iopub.status.busy": "2023-12-16T08:25:47.308506Z",
     "iopub.status.idle": "2023-12-16T08:25:47.316921Z",
     "shell.execute_reply": "2023-12-16T08:25:47.315811Z"
    },
    "papermill": {
     "duration": 0.03096,
     "end_time": "2023-12-16T08:25:47.319706",
     "exception": false,
     "start_time": "2023-12-16T08:25:47.288746",
     "status": "completed"
    },
    "tags": []
   },
   "outputs": [],
   "source": [
    "df_test = df.rename(columns={'index': 'PassengerId'})\n",
    "df_test = df.rename(columns={0: 'Survived',})"
   ]
  },
  {
   "cell_type": "code",
   "execution_count": 20,
   "id": "72cfc3be",
   "metadata": {
    "execution": {
     "iopub.execute_input": "2023-12-16T08:25:47.358512Z",
     "iopub.status.busy": "2023-12-16T08:25:47.357724Z",
     "iopub.status.idle": "2023-12-16T08:25:47.369457Z",
     "shell.execute_reply": "2023-12-16T08:25:47.368179Z"
    },
    "papermill": {
     "duration": 0.03351,
     "end_time": "2023-12-16T08:25:47.372578",
     "exception": false,
     "start_time": "2023-12-16T08:25:47.339068",
     "status": "completed"
    },
    "tags": []
   },
   "outputs": [],
   "source": [
    "sub = pd.read_csv('/kaggle/input/titanic/gender_submission.csv')"
   ]
  },
  {
   "cell_type": "code",
   "execution_count": 21,
   "id": "89249b1c",
   "metadata": {
    "execution": {
     "iopub.execute_input": "2023-12-16T08:25:47.406311Z",
     "iopub.status.busy": "2023-12-16T08:25:47.405869Z",
     "iopub.status.idle": "2023-12-16T08:25:47.420885Z",
     "shell.execute_reply": "2023-12-16T08:25:47.419417Z"
    },
    "papermill": {
     "duration": 0.035253,
     "end_time": "2023-12-16T08:25:47.423627",
     "exception": false,
     "start_time": "2023-12-16T08:25:47.388374",
     "status": "completed"
    },
    "tags": []
   },
   "outputs": [
    {
     "data": {
      "text/html": [
       "<div>\n",
       "<style scoped>\n",
       "    .dataframe tbody tr th:only-of-type {\n",
       "        vertical-align: middle;\n",
       "    }\n",
       "\n",
       "    .dataframe tbody tr th {\n",
       "        vertical-align: top;\n",
       "    }\n",
       "\n",
       "    .dataframe thead th {\n",
       "        text-align: right;\n",
       "    }\n",
       "</style>\n",
       "<table border=\"1\" class=\"dataframe\">\n",
       "  <thead>\n",
       "    <tr style=\"text-align: right;\">\n",
       "      <th></th>\n",
       "      <th>PassengerId</th>\n",
       "      <th>Survived</th>\n",
       "    </tr>\n",
       "  </thead>\n",
       "  <tbody>\n",
       "    <tr>\n",
       "      <th>0</th>\n",
       "      <td>892</td>\n",
       "      <td>0</td>\n",
       "    </tr>\n",
       "    <tr>\n",
       "      <th>1</th>\n",
       "      <td>893</td>\n",
       "      <td>0</td>\n",
       "    </tr>\n",
       "    <tr>\n",
       "      <th>2</th>\n",
       "      <td>894</td>\n",
       "      <td>0</td>\n",
       "    </tr>\n",
       "    <tr>\n",
       "      <th>3</th>\n",
       "      <td>895</td>\n",
       "      <td>0</td>\n",
       "    </tr>\n",
       "    <tr>\n",
       "      <th>4</th>\n",
       "      <td>896</td>\n",
       "      <td>0</td>\n",
       "    </tr>\n",
       "    <tr>\n",
       "      <th>...</th>\n",
       "      <td>...</td>\n",
       "      <td>...</td>\n",
       "    </tr>\n",
       "    <tr>\n",
       "      <th>413</th>\n",
       "      <td>1305</td>\n",
       "      <td>0</td>\n",
       "    </tr>\n",
       "    <tr>\n",
       "      <th>414</th>\n",
       "      <td>1306</td>\n",
       "      <td>1</td>\n",
       "    </tr>\n",
       "    <tr>\n",
       "      <th>415</th>\n",
       "      <td>1307</td>\n",
       "      <td>0</td>\n",
       "    </tr>\n",
       "    <tr>\n",
       "      <th>416</th>\n",
       "      <td>1308</td>\n",
       "      <td>0</td>\n",
       "    </tr>\n",
       "    <tr>\n",
       "      <th>417</th>\n",
       "      <td>1309</td>\n",
       "      <td>0</td>\n",
       "    </tr>\n",
       "  </tbody>\n",
       "</table>\n",
       "<p>418 rows × 2 columns</p>\n",
       "</div>"
      ],
      "text/plain": [
       "     PassengerId  Survived\n",
       "0            892         0\n",
       "1            893         0\n",
       "2            894         0\n",
       "3            895         0\n",
       "4            896         0\n",
       "..           ...       ...\n",
       "413         1305         0\n",
       "414         1306         1\n",
       "415         1307         0\n",
       "416         1308         0\n",
       "417         1309         0\n",
       "\n",
       "[418 rows x 2 columns]"
      ]
     },
     "execution_count": 21,
     "metadata": {},
     "output_type": "execute_result"
    }
   ],
   "source": [
    "output = pd.DataFrame({'PassengerId': sub.PassengerId, 'Survived': df_test.Survived})\n",
    "output"
   ]
  },
  {
   "cell_type": "code",
   "execution_count": 22,
   "id": "e0aafd3e",
   "metadata": {
    "execution": {
     "iopub.execute_input": "2023-12-16T08:25:47.457545Z",
     "iopub.status.busy": "2023-12-16T08:25:47.457134Z",
     "iopub.status.idle": "2023-12-16T08:25:47.467228Z",
     "shell.execute_reply": "2023-12-16T08:25:47.465927Z"
    },
    "papermill": {
     "duration": 0.030614,
     "end_time": "2023-12-16T08:25:47.470213",
     "exception": false,
     "start_time": "2023-12-16T08:25:47.439599",
     "status": "completed"
    },
    "tags": []
   },
   "outputs": [],
   "source": [
    "output.to_csv('submission.csv', index=False)"
   ]
  }
 ],
 "metadata": {
  "kaggle": {
   "accelerator": "none",
   "dataSources": [
    {
     "databundleVersionId": 26502,
     "sourceId": 3136,
     "sourceType": "competition"
    }
   ],
   "dockerImageVersionId": 30587,
   "isGpuEnabled": false,
   "isInternetEnabled": true,
   "language": "python",
   "sourceType": "notebook"
  },
  "kernelspec": {
   "display_name": "Python 3",
   "language": "python",
   "name": "python3"
  },
  "language_info": {
   "codemirror_mode": {
    "name": "ipython",
    "version": 3
   },
   "file_extension": ".py",
   "mimetype": "text/x-python",
   "name": "python",
   "nbconvert_exporter": "python",
   "pygments_lexer": "ipython3",
   "version": "3.10.12"
  },
  "papermill": {
   "default_parameters": {},
   "duration": 15.5633,
   "end_time": "2023-12-16T08:25:48.211453",
   "environment_variables": {},
   "exception": null,
   "input_path": "__notebook__.ipynb",
   "output_path": "__notebook__.ipynb",
   "parameters": {},
   "start_time": "2023-12-16T08:25:32.648153",
   "version": "2.4.0"
  }
 },
 "nbformat": 4,
 "nbformat_minor": 5
}
